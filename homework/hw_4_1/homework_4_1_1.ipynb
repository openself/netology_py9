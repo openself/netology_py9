{
 "cells": [
  {
   "cell_type": "code",
   "execution_count": 1,
   "metadata": {},
   "outputs": [
    {
     "name": "stdout",
     "output_type": "stream",
     "text": [
      "ТОП-3 популярных имен в указанные годы: John, William, Mary\n"
     ]
    }
   ],
   "source": [
    "import os\n",
    "import pandas as pd\n",
    "\n",
    "\n",
    "DATA_DIR = r'.\\names'\n",
    "\n",
    "\n",
    "def top3_names(years):\n",
    "    df = pd.DataFrame(columns=['name', 'number'])\n",
    "\n",
    "    for year in years:\n",
    "        file_name = os.path.join(DATA_DIR, f'yob{year}.txt')\n",
    "        cur_df = pd.read_csv(file_name, header=None, names=['name', 'sex', 'number'])\n",
    "        df = df.append(cur_df[['name', 'number']])\n",
    "        \n",
    "    df = df.groupby(['name']).aggregate(sum)\n",
    "    df = df.sort_values('number', ascending=False)\n",
    "\n",
    "    print('ТОП-3 популярных имен в указанные годы:', ', '.join(df.iloc[:3].index.values))\n",
    "\n",
    "\n",
    "top3_names(['1880', '1881', '1882'])    "
   ]
  },
  {
   "cell_type": "code",
   "execution_count": null,
   "metadata": {
    "collapsed": true
   },
   "outputs": [],
   "source": []
  }
 ],
 "metadata": {
  "kernelspec": {
   "display_name": "Python 3",
   "language": "python",
   "name": "python3"
  },
  "language_info": {
   "codemirror_mode": {
    "name": "ipython",
    "version": 3
   },
   "file_extension": ".py",
   "mimetype": "text/x-python",
   "name": "python",
   "nbconvert_exporter": "python",
   "pygments_lexer": "ipython3",
   "version": "3.6.3"
  }
 },
 "nbformat": 4,
 "nbformat_minor": 2
}
