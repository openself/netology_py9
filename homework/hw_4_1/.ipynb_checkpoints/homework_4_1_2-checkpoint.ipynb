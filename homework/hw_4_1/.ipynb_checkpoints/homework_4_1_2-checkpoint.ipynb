{
 "cells": [
  {
   "cell_type": "code",
   "execution_count": 1,
   "metadata": {},
   "outputs": [
    {
     "name": "stdout",
     "output_type": "stream",
     "text": [
      "Динамика изменения количества женских имен:  90992, 91953, 107847\n",
      "Динамика изменения количества мужских имен:  110491, 100743, 113686\n"
     ]
    }
   ],
   "source": [
    "import os\n",
    "import pandas as pd\n",
    "\n",
    "\n",
    "DATA_DIR = r'.\\names'\n",
    "\n",
    "\n",
    "def count_dynamics(years):\n",
    "    list_f = []\n",
    "    list_m = []\n",
    "\n",
    "    for year in years:\n",
    "        file_name = os.path.join(DATA_DIR, f'yob{year}.txt')\n",
    "        cur_df = pd.read_csv(file_name, header=None, names=['name', 'sex', 'number'])\n",
    "        cur_df = cur_df[['sex', 'number']].groupby(['sex']).aggregate(sum)\n",
    "\n",
    "        list_f.append(str(cur_df.loc['F'][0]))\n",
    "        list_m.append(str(cur_df.loc['M'][0]))\n",
    "\n",
    "    print('Динамика изменения количества женских имен: ', ', '.join(list_f))\n",
    "    print('Динамика изменения количества мужских имен: ', ', '.join(list_m))\n",
    "\n",
    "\n",
    "count_dynamics(['1880', '1881', '1882'])"
   ]
  },
  {
   "cell_type": "code",
   "execution_count": null,
   "metadata": {
    "collapsed": true
   },
   "outputs": [],
   "source": []
  }
 ],
 "metadata": {
  "kernelspec": {
   "display_name": "Python 3",
   "language": "python",
   "name": "python3"
  },
  "language_info": {
   "codemirror_mode": {
    "name": "ipython",
    "version": 3
   },
   "file_extension": ".py",
   "mimetype": "text/x-python",
   "name": "python",
   "nbconvert_exporter": "python",
   "pygments_lexer": "ipython3",
   "version": "3.6.3"
  }
 },
 "nbformat": 4,
 "nbformat_minor": 2
}
